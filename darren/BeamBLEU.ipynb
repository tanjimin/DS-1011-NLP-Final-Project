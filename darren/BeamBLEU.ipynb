{
 "cells": [
  {
   "cell_type": "code",
   "execution_count": 1,
   "metadata": {},
   "outputs": [],
   "source": [
    "from AttnRNN import EncoderRNN, AttentionDecoderRNN\n",
    "import importlib\n",
    "import BLEUs\n",
    "importlib.reload(BLEUs)\n",
    "import pickle as pkl\n",
    "import numpy as np\n",
    "import gzip\n",
    "import torch\n",
    "import torch.nn as nn\n",
    "from torch import optim\n",
    "import torch.nn.functional as F\n",
    "import time\n",
    "\n",
    "from utils import asMinutes, timeSince, load_zipped_pickle, corpus_bleu, directories\n",
    "from langUtils import loadLangPairs, langDataset, langCollateFn, initHybridEmbeddings, tensorToList\n",
    "\n",
    "device = torch.device(\"cuda\" if torch.cuda.is_available() else \"cpu\")\n",
    "class SortedList(list):\n",
    "    def insort(self, x):\n",
    "        bisect.insort(self, x)"
   ]
  },
  {
   "cell_type": "code",
   "execution_count": 2,
   "metadata": {},
   "outputs": [],
   "source": [
    "vi, vi_en = loadLangPairs(\"vi\")\n",
    "zh, zh_en = loadLangPairs(\"zh\")\n",
    "BATCH_SIZE = 32\n",
    "\n",
    "vi_test_dataset = langDataset([(vi.test_num[i], vi_en.test_num[i]) for i in range(len(vi.test_num)) if (2 < len(vi.test[i]) < vi.max_length) & (2 < len(vi_en.test[i]) < vi_en.max_length)])\n",
    "vi_test_loader = torch.utils.data.DataLoader(dataset=vi_test_dataset,\n",
    "                                           batch_size=BATCH_SIZE,\n",
    "                                           collate_fn=langCollateFn,\n",
    "                                           shuffle=True)\n",
    "# overfit_dataset = langDataset([(vi.train_num[i], vi_en.train_num[i]) for i in range(32)])\n",
    "# overfit_loader = torch.utils.data.DataLoader(dataset=overfit_dataset,\n",
    "#                                            batch_size=BATCH_SIZE,\n",
    "#                                            collate_fn=langCollateFn,\n",
    "#                                            shuffle=True)\n",
    "\n",
    "zh_test_dataset = langDataset([(zh.test_num[i], zh_en.test_num[i]) for i in range(len(zh.test_num)) if (2 < len(zh.test[i]) < zh.max_length) & (2 < len(zh_en.test[i]) < zh_en.max_length)])\n",
    "zh_test_loader = torch.utils.data.DataLoader(dataset=vi_test_dataset,\n",
    "                                           batch_size=BATCH_SIZE,\n",
    "                                           collate_fn=langCollateFn,\n",
    "                                           shuffle=True)"
   ]
  },
  {
   "cell_type": "code",
   "execution_count": 3,
   "metadata": {},
   "outputs": [],
   "source": [
    "encoder = pkl.load(open('vi-g-attn-encoder-sgd0.01.p', 'rb'))\n",
    "decoder = pkl.load(open('vi-g-attn-decoder-sgd0.01.p', 'rb'))"
   ]
  },
  {
   "cell_type": "code",
   "execution_count": 5,
   "metadata": {},
   "outputs": [
    {
     "name": "stdout",
     "output_type": "stream",
     "text": [
      "--------VI to EN RNN ATTN ADAM 0.01---------\n"
     ]
    },
    {
     "ename": "NameError",
     "evalue": "name 'SOS_ID' is not defined",
     "output_type": "error",
     "traceback": [
      "\u001b[0;31m---------------------------------------------------------------------------\u001b[0m",
      "\u001b[0;31mNameError\u001b[0m                                 Traceback (most recent call last)",
      "\u001b[0;32m<ipython-input-5-8e65e7d4f56c>\u001b[0m in \u001b[0;36m<module>\u001b[0;34m\u001b[0m\n\u001b[1;32m      1\u001b[0m \u001b[0mprint\u001b[0m\u001b[0;34m(\u001b[0m\u001b[0;34m'--------VI to EN RNN ATTN ADAM 0.01---------'\u001b[0m\u001b[0;34m)\u001b[0m\u001b[0;34m\u001b[0m\u001b[0m\n\u001b[0;32m----> 2\u001b[0;31m \u001b[0mprint\u001b[0m\u001b[0;34m(\u001b[0m\u001b[0mBLEUs\u001b[0m\u001b[0;34m.\u001b[0m\u001b[0mbleuScoreAttention\u001b[0m\u001b[0;34m(\u001b[0m\u001b[0mvi_test_loader\u001b[0m\u001b[0;34m,\u001b[0m \u001b[0mencoder\u001b[0m\u001b[0;34m,\u001b[0m \u001b[0mdecoder\u001b[0m\u001b[0;34m,\u001b[0m \u001b[0mBATCH_SIZE\u001b[0m\u001b[0;34m,\u001b[0m \u001b[0;36m300\u001b[0m\u001b[0;34m,\u001b[0m \u001b[0;36m1\u001b[0m\u001b[0;34m)\u001b[0m\u001b[0;34m)\u001b[0m\u001b[0;34m\u001b[0m\u001b[0m\n\u001b[0m\u001b[1;32m      3\u001b[0m \u001b[0;31m# print(BLEUs.bleuScoreAttention(vi_test_loader, encoder, decoder, BATCH_SIZE, 300, 5))\u001b[0m\u001b[0;34m\u001b[0m\u001b[0;34m\u001b[0m\u001b[0m\n",
      "\u001b[0;32m~/DS-1011-NLP-Final-Project/darren/BLEUs.py\u001b[0m in \u001b[0;36mbleuScoreAttention\u001b[0;34m(data_loader, encoder, decoder, batch_size, HIDDEN_SIZE, beam_size)\u001b[0m\n\u001b[1;32m    125\u001b[0m                 \u001b[0mencoder_hiddens\u001b[0m\u001b[0;34m[\u001b[0m\u001b[0mec_idx\u001b[0m\u001b[0;34m]\u001b[0m \u001b[0;34m=\u001b[0m \u001b[0mencoder_hidden\u001b[0m\u001b[0;34m\u001b[0m\u001b[0m\n\u001b[1;32m    126\u001b[0m \u001b[0;34m\u001b[0m\u001b[0m\n\u001b[0;32m--> 127\u001b[0;31m             \u001b[0;31m# Decode\u001b[0m\u001b[0;34m\u001b[0m\u001b[0;34m\u001b[0m\u001b[0m\n\u001b[0m\u001b[1;32m    128\u001b[0m             \u001b[0mdecoder_input\u001b[0m \u001b[0;34m=\u001b[0m \u001b[0mtorch\u001b[0m\u001b[0;34m.\u001b[0m\u001b[0mtensor\u001b[0m\u001b[0;34m(\u001b[0m\u001b[0;34m[\u001b[0m\u001b[0mSOS_ID\u001b[0m\u001b[0;34m]\u001b[0m \u001b[0;34m*\u001b[0m \u001b[0mbatch_size\u001b[0m\u001b[0;34m,\u001b[0m \u001b[0mdevice\u001b[0m\u001b[0;34m=\u001b[0m\u001b[0mdevice\u001b[0m\u001b[0;34m)\u001b[0m\u001b[0;34m\u001b[0m\u001b[0m\n\u001b[1;32m    129\u001b[0m             \u001b[0mdecoder_hidden\u001b[0m \u001b[0;34m=\u001b[0m \u001b[0mencoder_hidden\u001b[0m\u001b[0;34m\u001b[0m\u001b[0m\n",
      "\u001b[0;31mNameError\u001b[0m: name 'SOS_ID' is not defined"
     ]
    }
   ],
   "source": [
    "print('--------VI to EN RNN ATTN ADAM 0.01---------')\n",
    "print(BLEUs.bleuScoreAttention(vi_test_loader, encoder, decoder, BATCH_SIZE, 300, 1))\n",
    "# print(BLEUs.bleuScoreAttention(vi_test_loader, encoder, decoder, BATCH_SIZE, 300, 5))"
   ]
  },
  {
   "cell_type": "code",
   "execution_count": null,
   "metadata": {},
   "outputs": [],
   "source": [
    "BATCH_SIZE"
   ]
  }
 ],
 "metadata": {
  "kernelspec": {
   "display_name": "Python 3",
   "language": "python",
   "name": "python3"
  },
  "language_info": {
   "codemirror_mode": {
    "name": "ipython",
    "version": 3
   },
   "file_extension": ".py",
   "mimetype": "text/x-python",
   "name": "python",
   "nbconvert_exporter": "python",
   "pygments_lexer": "ipython3",
   "version": "3.7.0"
  }
 },
 "nbformat": 4,
 "nbformat_minor": 2
}
