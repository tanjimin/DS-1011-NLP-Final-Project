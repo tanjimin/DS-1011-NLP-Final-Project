{
 "cells": [
  {
   "cell_type": "code",
   "execution_count": 1,
   "metadata": {},
   "outputs": [],
   "source": [
    "from collections import Counter\n",
    "from itertools import zip_longest\n",
    "import math"
   ]
  },
  {
   "cell_type": "code",
   "execution_count": 2,
   "metadata": {},
   "outputs": [],
   "source": [
    "def extract_ngrams(line, max_order, min_order=1):\n",
    "    ngrams = Counter()\n",
    "    ngrams.clear()\n",
    "    for n in range(min_order, max_order + 1):\n",
    "        for i in range(0, len(line) - n + 1):\n",
    "            ngram = ' '.join(line[i: i + n])\n",
    "            ngrams[ngram] += 1\n",
    "    return ngrams"
   ]
  },
  {
   "cell_type": "code",
   "execution_count": 3,
   "metadata": {},
   "outputs": [],
   "source": [
    "def ref_stats(output, refs, max_order):\n",
    "    ngrams = Counter()\n",
    "    closest_diff = None\n",
    "    closest_len = None\n",
    "    for ref in refs:\n",
    "        reflen = len(ref)\n",
    "        diff = abs(len(output) - reflen)\n",
    "        if closest_diff is None or diff < closest_diff:\n",
    "            closest_diff = diff\n",
    "            closest_len = reflen\n",
    "        elif diff == closest_diff:\n",
    "            if reflen < closest_len:\n",
    "                closest_len = reflen\n",
    "\n",
    "        ngrams_ref = extract_ngrams(ref, max_order = max_order)\n",
    "        for ngram in ngrams_ref.keys():\n",
    "            ngrams[ngram] = max(ngrams[ngram], ngrams_ref[ngram])\n",
    "\n",
    "    return ngrams, closest_diff, closest_len"
   ]
  },
  {
   "cell_type": "code",
   "execution_count": 36,
   "metadata": {},
   "outputs": [],
   "source": [
    "def corpus_bleu(out_stream, ref_streams, ngrams, smooth='exp', smooth_floor=0.01, \n",
    "                force=False, lowercase=False, use_effective_order=False):\n",
    "    \"\"\"Produces BLEU scores along with its sufficient statistics from a source against one or more references.\n",
    "    :param sys_stream: The system stream (a sequence of segments)\n",
    "    :param ref_streams: A list of one or more reference streams (each a sequence of segments)\n",
    "    :param smooth: The smoothing method to use\n",
    "    :param smooth_floor: For 'floor' smoothing, the floor to use\n",
    "    :param force: Ignore data that looks already tokenized\n",
    "    :param lowercase: Lowercase the data\n",
    "    \"\"\"\n",
    "\n",
    "    out_len = 0\n",
    "    ref_len = 0\n",
    "\n",
    "    correct = [0 for n in range(ngrams)]\n",
    "    total = [0 for n in range(ngrams)]\n",
    "    fhs = [out_stream] + [ref_streams]\n",
    "    for lines in zip_longest(*fhs):\n",
    "        if None in lines:\n",
    "            raise EOFError(\"Source and reference streams have different lengths!\")\n",
    "\n",
    "        output = lines[0]\n",
    "        refs = lines[1]\n",
    "        \n",
    "        out_ngrams = extract_ngrams(output, max_order = ngrams)\n",
    "        out_len += len(output)\n",
    "\n",
    "        ref_ngrams, closest_diff, closest_len = ref_stats(output, [refs], max_order = ngrams)\n",
    "        ref_len += closest_len\n",
    "\n",
    "        for ngram in out_ngrams.keys():\n",
    "            n = len(ngram.split())\n",
    "            correct[n-1] += min(out_ngrams[ngram], ref_ngrams.get(ngram, 0))\n",
    "            total[n-1] += out_ngrams[ngram]\n",
    "    return compute_bleu(correct, total, ngrams, out_len, ref_len, smooth, smooth_floor, use_effective_order)"
   ]
  },
  {
   "cell_type": "code",
   "execution_count": 37,
   "metadata": {},
   "outputs": [],
   "source": [
    "def compute_bleu(correct, total, ngrams, out_len, ref_len, \n",
    "                 smooth = 'floor', smooth_floor = 0.01, use_effective_order = False):\n",
    "    \"\"\"Computes BLEU score from its sufficient statistics. Adds smoothing.\n",
    "    :param correct: List of counts of correct ngrams, 1 <= n <= NGRAM_ORDER\n",
    "    :param total: List of counts of total ngrams, 1 <= n <= NGRAM_ORDER\n",
    "    :param out_len: The cumulative system length\n",
    "    :param ref_len: The cumulative reference length\n",
    "    :param smooth: The smoothing method to use\n",
    "    :param smooth_floor: The smoothing value added, if smooth method 'floor' is used\n",
    "    :param use_effective_order: Use effective order.\n",
    "    \"\"\"\n",
    "\n",
    "    precisions = [0 for x in range(ngrams)]\n",
    "\n",
    "    smooth_mteval = 1.\n",
    "    effective_order = ngrams\n",
    "    for n in range(ngrams):\n",
    "        if total[n] == 0:\n",
    "            break\n",
    "\n",
    "        if use_effective_order:\n",
    "            effective_order = n + 1\n",
    "        if correct[n] == 0:\n",
    "            if smooth == 'exp':\n",
    "                smooth_mteval *= 2\n",
    "                precisions[n] = 100. / (smooth_mteval * total[n])\n",
    "            elif smooth == 'floor':\n",
    "                precisions[n] = 100. * smooth_floor / total[n]\n",
    "        else:\n",
    "            precisions[n] = 100. * correct[n] / total[n]\n",
    "\n",
    "    brevity_penalty = 1.0\n",
    "    if out_len < ref_len:\n",
    "        brevity_penalty = math.exp(1 - ref_len / out_len) if out_len > 0 else 0.0\n",
    "\n",
    "    bleu = brevity_penalty * math.exp(sum(map(lambda x: -9999999999 if x == 0.0 else math.log(x), precisions[:effective_order])) / effective_order)\n",
    "    print(bleu)"
   ]
  },
  {
   "cell_type": "code",
   "execution_count": 41,
   "metadata": {},
   "outputs": [
    {
     "name": "stdout",
     "output_type": "stream",
     "text": [
      "100.00000000000004\n"
     ]
    }
   ],
   "source": [
    "corpus_bleu([['this']], [[['this']]], 1)"
   ]
  },
  {
   "cell_type": "code",
   "execution_count": 40,
   "metadata": {},
   "outputs": [
    {
     "name": "stdout",
     "output_type": "stream",
     "text": [
      "46.66666666666667\n"
     ]
    }
   ],
   "source": [
    "out = [['i', 'ate', 'a', 'hotdog'], ['this', 'is', 'a', 'test', 'i', 'hope', 'it', 'works'], ['a', 'third', 'sentence']]\n",
    "ref = [['the', 'hotdog', 'was', 'really', 'really', 'good'], ['this', 'is', 'a', 'small', 'test'], ['third', 'sentence', 'is', 'this']]\n",
    "\n",
    "\n",
    "corpus_bleu(out, ref, 1)"
   ]
  },
  {
   "cell_type": "code",
   "execution_count": 24,
   "metadata": {},
   "outputs": [],
   "source": []
  },
  {
   "cell_type": "code",
   "execution_count": 20,
   "metadata": {},
   "outputs": [],
   "source": [
    "fhs = [out] + ref"
   ]
  },
  {
   "cell_type": "code",
   "execution_count": 23,
   "metadata": {},
   "outputs": [
    {
     "name": "stdout",
     "output_type": "stream",
     "text": [
      "(['i', 'ate', 'a', 'hotdog'], ['the', 'hotdog', 'was', 'really', 'really', 'good'])\n",
      "(['this', 'is', 'a', 'test', 'i', 'hope', 'it', 'works'], ['this', 'is', 'a', 'small', 'test'])\n"
     ]
    }
   ],
   "source": [
    "for lines in zip_longest(*fhs):\n",
    "    print(lines)"
   ]
  }
 ],
 "metadata": {
  "anaconda-cloud": {},
  "kernelspec": {
   "display_name": "Python [default]",
   "language": "python",
   "name": "python3"
  },
  "language_info": {
   "codemirror_mode": {
    "name": "ipython",
    "version": 3
   },
   "file_extension": ".py",
   "mimetype": "text/x-python",
   "name": "python",
   "nbconvert_exporter": "python",
   "pygments_lexer": "ipython3",
   "version": "3.5.2"
  }
 },
 "nbformat": 4,
 "nbformat_minor": 2
}
