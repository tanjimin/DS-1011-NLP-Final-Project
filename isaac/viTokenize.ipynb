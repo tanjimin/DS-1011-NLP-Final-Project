{
 "cells": [
  {
   "cell_type": "code",
   "execution_count": 1,
   "metadata": {},
   "outputs": [],
   "source": [
    "import os\n",
    "import json\n",
    "from io import open\n",
    "import unicodedata\n",
    "import string\n",
    "import re\n",
    "import pickle as pkl"
   ]
  },
  {
   "cell_type": "code",
   "execution_count": 2,
   "metadata": {},
   "outputs": [],
   "source": [
    "eos_tag = '</s>'\n",
    "\n",
    "data_dir = '/'.join(os.getcwd().split(\"/\")[:-1]) + '/data/'\n",
    "jimin_dir = '/'.join(os.getcwd().split(\"/\")[:-1]) + '/jimin/'"
   ]
  },
  {
   "cell_type": "markdown",
   "metadata": {},
   "source": [
    "# Tokenize Vietnamese"
   ]
  },
  {
   "cell_type": "code",
   "execution_count": 3,
   "metadata": {},
   "outputs": [],
   "source": [
    "def tokenizeVietnamese(vi_path):\n",
    "    with open(vi_path, encoding='utf-8') as vi:\n",
    "        lines = [x.strip().lower().replace(\"-\", \"\") + \" \" + eos_tag for x in vi]\n",
    "        \n",
    "    tokens = [x.split(\" \") for x in lines]\n",
    "    \n",
    "    #tokens_num = [[\"x\" for k in range(len(sentence))] for sentence in tokens]\n",
    "\n",
    "    #for i, sentence in enumerate(tokens):\n",
    "    #    for j, token in enumerate(sentence):\n",
    "    #        if token in vi_word2id:\n",
    "    #            tokens_num[i][j] = vi_word2id[token]\n",
    "    #        else:\n",
    "    #            tokens_num[i][j] = vi_word2id['<unk>']\n",
    "\n",
    "    return tokens#, tokens_num\n",
    "    "
   ]
  },
  {
   "cell_type": "code",
   "execution_count": 5,
   "metadata": {},
   "outputs": [],
   "source": [
    "data_dir = '/'.join(os.getcwd().split(\"/\")[:-1]) + '/data/'\n",
    "\n",
    "for i in [\"train\", \"test\", \"dev\"]:\n",
    "    tokens = tokenizeVietnamese(\"{}iwslt-vi-en/{}.tok.vi\".format(data_dir, i))\n",
    "    \n",
    "    with open(\"{}iwslt-vi-en/{}_vi_tokens.p\".format(data_dir, i), 'wb') as f:\n",
    "        pkl.dump(tokens, f)\n",
    "        \n",
    "    #with open(\"{}iwslt-vi-en/{}_vi_tokens_numeric.p\".format(data_dir, i), 'wb') as f:\n",
    "    #    pkl.dump(tokens_num, f)"
   ]
  },
  {
   "cell_type": "code",
   "execution_count": 22,
   "metadata": {},
   "outputs": [],
   "source": [
    "vi_train_tokens = tokenizeVietnamese(data_dir + \"iwslt-vi-en/train.tok.vi\")\n",
    "vi_dev_tokens = tokenizeVietnamese(data_dir + \"iwslt-vi-en/dev.tok.vi\")\n",
    "vi_test_tokens = tokenizeVietnamese(data_dir + \"iwslt-vi-en/test.tok.vi\")"
   ]
  },
  {
   "cell_type": "code",
   "execution_count": null,
   "metadata": {},
   "outputs": [],
   "source": []
  },
  {
   "cell_type": "code",
   "execution_count": null,
   "metadata": {},
   "outputs": [],
   "source": []
  },
  {
   "cell_type": "code",
   "execution_count": null,
   "metadata": {},
   "outputs": [],
   "source": []
  }
 ],
 "metadata": {
  "kernelspec": {
   "display_name": "Python 3",
   "language": "python",
   "name": "python3"
  },
  "language_info": {
   "codemirror_mode": {
    "name": "ipython",
    "version": 3
   },
   "file_extension": ".py",
   "mimetype": "text/x-python",
   "name": "python",
   "nbconvert_exporter": "python",
   "pygments_lexer": "ipython3",
   "version": "3.7.0"
  }
 },
 "nbformat": 4,
 "nbformat_minor": 2
}
