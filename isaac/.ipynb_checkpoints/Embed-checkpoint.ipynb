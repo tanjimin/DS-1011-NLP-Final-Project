{
 "cells": [
  {
   "cell_type": "code",
   "execution_count": null,
   "metadata": {},
   "outputs": [],
   "source": [
    "import numpy as np\n",
    "\n",
    "import pickle as pkl\n",
    "\n",
    "import torch\n",
    "import torch.nn as nn\n",
    "import torch.nn.functional as F\n",
    "from torch.utils.data import Dataset"
   ]
  },
  {
   "cell_type": "code",
   "execution_count": null,
   "metadata": {},
   "outputs": [],
   "source": [
    "##WRONG WAY BUT INSPIRE\n",
    "##https://github.com/zphang/usc_dae/blob/master/src/datasets/data.py#L185-L213\n",
    "def loadEmbeddings(char2id):\n",
    "\n",
    "    word_embeddings = pkl.load(open(\"hw2_data/word_embeddings.p\", \"rb\"))\n",
    "    matrix_len = char2id\n",
    "    weights_list = []\n",
    "    words_found = 0\n",
    "\n",
    "    for i, word in enumerate(char2id):\n",
    "        if word == '<pad>':\n",
    "            weights_list.append(torch.Tensor([0 for i in range(300)]))\n",
    "            weights_list[-1].requires_grad = False\n",
    "            continue\n",
    "        elif word == \"<unk>\":\n",
    "            weights_list.append(torch.rand(300))\n",
    "            weights_list[-1].requires_grad = True\n",
    "            continue\n",
    "        try: \n",
    "            weights_list.append(torch.Tensor(word_embeddings[word]))\n",
    "            weights_list[-1].requires_grad = False\n",
    "        except KeyError:\n",
    "            weights_list.append(torch.rand(300,))\n",
    "            weights_list[-1].requires_grad = False\n",
    "\n",
    "    weights_tensor = torch.stack(weights_list)\n",
    "    return weights_tensor"
   ]
  }
 ],
 "metadata": {
  "kernelspec": {
   "display_name": "Python 3",
   "language": "python",
   "name": "python3"
  },
  "language_info": {
   "codemirror_mode": {
    "name": "ipython",
    "version": 3
   },
   "file_extension": ".py",
   "mimetype": "text/x-python",
   "name": "python",
   "nbconvert_exporter": "python",
   "pygments_lexer": "ipython3",
   "version": "3.6.5"
  }
 },
 "nbformat": 4,
 "nbformat_minor": 2
}
