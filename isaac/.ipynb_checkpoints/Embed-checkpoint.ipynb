{
 "cells": [
  {
   "cell_type": "code",
   "execution_count": 3,
   "metadata": {},
   "outputs": [],
   "source": [
    "import os\n",
    "\n",
    "import numpy as np\n",
    "\n",
    "import pickle as pkl\n",
    "import gzip\n",
    "\n",
    "import torch\n",
    "import torch.nn as nn\n",
    "import torch.nn.functional as F\n",
    "from torch.utils.data import Dataset"
   ]
  },
  {
   "cell_type": "code",
   "execution_count": 5,
   "metadata": {},
   "outputs": [],
   "source": [
    "data_dir = '/'.join(os.getcwd().split(\"/\")[:-1]) + '/data/'\n",
    "emb_dir = '/'.join(os.getcwd().split(\"/\")[:-1]) + '/embeddings/'\n",
    "\n",
    "def load_zipped_pickle(filename):\n",
    "    with gzip.open(filename, 'rb') as f:\n",
    "        loaded_object = pkl.load(f)\n",
    "        return loaded_object"
   ]
  },
  {
   "cell_type": "code",
   "execution_count": null,
   "metadata": {},
   "outputs": [],
   "source": [
    "vi_emb = load_zipped_pickle(emb_dir + \"vi_embeddings_100K.p\")\n",
    "vi_id2word = load_zipped_pickle(emb_dir + \"id2word_vi_dic.p\")\n",
    "vi_word2id = load_zipped_pickle(emb_dir + \"word2id_vi_dic.p\")\n"
   ]
  },
  {
   "cell_type": "code",
   "execution_count": 13,
   "metadata": {},
   "outputs": [
    {
     "data": {
      "text/plain": [
       "'<pad>'"
      ]
     },
     "execution_count": 13,
     "metadata": {},
     "output_type": "execute_result"
    }
   ],
   "source": [
    "vi_id2word[0]"
   ]
  },
  {
   "cell_type": "code",
   "execution_count": null,
   "metadata": {},
   "outputs": [],
   "source": [
    "class HybridEmbeddings(nn.Module):\n",
    "    def __init__(self, fixed_embeddings, learned_embeddings):\n",
    "        super(HybridEmbeddings, self).__init__()\n",
    "        self.fixed_embeddings = fixed_embeddings\n",
    "        self.num_fixed = self.fixed_embeddings.num_embeddings - 1\n",
    "\n",
    "        self.learned_embeddings = learned_embeddings\n",
    "        self.num_learned = self.learned_embeddings.num_embeddings - 1\n",
    "\n",
    "    @property\n",
    "    def embedding_dim(self):\n",
    "        return self.fixed_embeddings.embedding_dim\n",
    "\n",
    "    def forward(self, ids_tensor):\n",
    "        fixed_ids = transform_ids(\n",
    "            ids_tensor,\n",
    "            start=NUM_SPECIAL,\n",
    "            end=NUM_SPECIAL + self.num_fixed,\n",
    "        )\n",
    "        learned_ids = transform_ids(\n",
    "            ids_tensor,\n",
    "            start=NUM_SPECIAL + self.num_fixed,\n",
    "            end=NUM_SPECIAL + self.num_fixed + self.num_learned,\n",
    "        )\n",
    "        embeddings = (\n",
    "            self.fixed_embeddings(fixed_ids)\n",
    "            + self.learned_embeddings(learned_ids)\n",
    "        )\n",
    "        return embeddings"
   ]
  }
 ],
 "metadata": {
  "kernelspec": {
   "display_name": "Python 3",
   "language": "python",
   "name": "python3"
  },
  "language_info": {
   "codemirror_mode": {
    "name": "ipython",
    "version": 3
   },
   "file_extension": ".py",
   "mimetype": "text/x-python",
   "name": "python",
   "nbconvert_exporter": "python",
   "pygments_lexer": "ipython3",
   "version": "3.7.0"
  }
 },
 "nbformat": 4,
 "nbformat_minor": 2
}
