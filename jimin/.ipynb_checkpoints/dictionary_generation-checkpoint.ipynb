{
 "cells": [
  {
   "cell_type": "code",
   "execution_count": 5,
   "metadata": {},
   "outputs": [],
   "source": [
    "import io\n",
    "\n",
    "def load_vectors(fname):\n",
    "    fin = io.open(fname, 'r', encoding='utf-8', newline='\\n', errors='ignore')\n",
    "    n, d = map(int, fin.readline().split())\n",
    "    id2word_dic = {}\n",
    "    word2id_dic = {}\n",
    "    for i, line in enumerate(fin):\n",
    "        tokens = line.rstrip().split(' ')\n",
    "        token = tokens[0]\n",
    "        index = i\n",
    "        id2word_dic[int(i)] = token\n",
    "        word2id_dic[token] = int(i)\n",
    "        if i > 100000:\n",
    "            break\n",
    "    return id2word_dic, word2id_dic"
   ]
  },
  {
   "cell_type": "code",
   "execution_count": 6,
   "metadata": {},
   "outputs": [
    {
     "ename": "NameError",
     "evalue": "name 'data' is not defined",
     "output_type": "error",
     "traceback": [
      "\u001b[0;31m---------------------------------------------------------------------------\u001b[0m",
      "\u001b[0;31mNameError\u001b[0m                                 Traceback (most recent call last)",
      "\u001b[0;32m<ipython-input-6-0a489ad490b0>\u001b[0m in \u001b[0;36m<module>\u001b[0;34m\u001b[0m\n\u001b[1;32m      2\u001b[0m \u001b[0;34m\u001b[0m\u001b[0m\n\u001b[1;32m      3\u001b[0m \u001b[0mfile_name_zh\u001b[0m \u001b[0;34m=\u001b[0m \u001b[0;34m'../../data/cc.zh.300.vec'\u001b[0m\u001b[0;34m\u001b[0m\u001b[0m\n\u001b[0;32m----> 4\u001b[0;31m \u001b[0mid2word_zh_dic\u001b[0m\u001b[0;34m,\u001b[0m \u001b[0mword2id_zh_dic\u001b[0m \u001b[0;34m=\u001b[0m \u001b[0mload_vectors\u001b[0m\u001b[0;34m(\u001b[0m\u001b[0mfile_name_zh\u001b[0m\u001b[0;34m)\u001b[0m\u001b[0;34m\u001b[0m\u001b[0m\n\u001b[0m\u001b[1;32m      5\u001b[0m \u001b[0;34m\u001b[0m\u001b[0m\n\u001b[1;32m      6\u001b[0m \u001b[0mid2word_zh_dic\u001b[0m\u001b[0;34m[\u001b[0m\u001b[0;36m0\u001b[0m\u001b[0;34m]\u001b[0m \u001b[0;34m=\u001b[0m \u001b[0;34m\"<pad>\"\u001b[0m\u001b[0;34m\u001b[0m\u001b[0m\n",
      "\u001b[0;32m<ipython-input-5-2b9b288aaf2b>\u001b[0m in \u001b[0;36mload_vectors\u001b[0;34m(fname)\u001b[0m\n\u001b[1;32m     12\u001b[0m         \u001b[0mid2word_dic\u001b[0m\u001b[0;34m[\u001b[0m\u001b[0mint\u001b[0m\u001b[0;34m(\u001b[0m\u001b[0mi\u001b[0m\u001b[0;34m)\u001b[0m\u001b[0;34m]\u001b[0m \u001b[0;34m=\u001b[0m \u001b[0mtoken\u001b[0m\u001b[0;34m\u001b[0m\u001b[0m\n\u001b[1;32m     13\u001b[0m         \u001b[0mword2id_dic\u001b[0m\u001b[0;34m[\u001b[0m\u001b[0mtoken\u001b[0m\u001b[0;34m]\u001b[0m \u001b[0;34m=\u001b[0m \u001b[0mi\u001b[0m\u001b[0;34m\u001b[0m\u001b[0m\n\u001b[0;32m---> 14\u001b[0;31m         \u001b[0mdata\u001b[0m\u001b[0;34m.\u001b[0m\u001b[0mappend\u001b[0m\u001b[0;34m(\u001b[0m\u001b[0mtoken\u001b[0m\u001b[0;34m)\u001b[0m\u001b[0;34m\u001b[0m\u001b[0m\n\u001b[0m\u001b[1;32m     15\u001b[0m         \u001b[0;32mif\u001b[0m \u001b[0mi\u001b[0m \u001b[0;34m>\u001b[0m \u001b[0;36m100000\u001b[0m\u001b[0;34m:\u001b[0m\u001b[0;34m\u001b[0m\u001b[0m\n\u001b[1;32m     16\u001b[0m             \u001b[0;32mbreak\u001b[0m\u001b[0;34m\u001b[0m\u001b[0m\n",
      "\u001b[0;31mNameError\u001b[0m: name 'data' is not defined"
     ]
    }
   ],
   "source": [
    "import json\n",
    "\n",
    "file_name_zh = '../../data/cc.zh.300.vec'\n",
    "id2word_zh_dic, word2id_zh_dic = load_vectors(file_name_zh)\n",
    "\n",
    "id2word_zh_dic[0] = \"<pad>\"\n",
    "id2word_zh_dic[1] = \"<unk>\"\n",
    "\n",
    "word2id_zh_dic[\"<pad>\"] = 0\n",
    "word2id_zh_dic[\"<unk>\"] = 1\n",
    "\n",
    "with open('id2word_zh_dic.json', 'w') as f:\n",
    "    json.dump(id2word_zh_dic, f)\n",
    "\n",
    "with open('word2id_zh_dic.json', 'w') as f:\n",
    "    json.dump(word2id_zh_dic, f)"
   ]
  },
  {
   "cell_type": "code",
   "execution_count": 103,
   "metadata": {},
   "outputs": [],
   "source": [
    "file_name_vi = '../../data/cc.vi.300.vec'\n",
    "id2word_vi_dic, word2id_vi_dic = load_vectors(file_name_vi)\n",
    "\n",
    "id2word_vi_dic[0] = \"<pad>\"\n",
    "id2word_vi_dic[1] = \"<unk>\"\n",
    "\n",
    "word2id_vi_dic[\"<pad>\"] = 0\n",
    "word2id_vi_dic[\"<unk>\"] = 1\n",
    "\n",
    "with open('id2word_vi_dic.json', 'w') as f:\n",
    "    json.dump(id2word_vi_dic, f)\n",
    "\n",
    "with open('word2id_vi_dic.json', 'w') as f:\n",
    "    json.dump(word2id_vi_dic, f)"
   ]
  },
  {
   "cell_type": "code",
   "execution_count": 104,
   "metadata": {},
   "outputs": [],
   "source": [
    "file_name_en = '../../data/cc.en.300.vec'\n",
    "id2word_en_dic, word2id_en_dic = load_vectors(file_name_en)\n",
    "\n",
    "id2word_en_dic[0] = \"<pad>\"\n",
    "id2word_en_dic[1] = \"<unk>\"\n",
    "\n",
    "word2id_en_dic[\"<pad>\"] = 0\n",
    "word2id_en_dic[\"<unk>\"] = 1\n",
    "\n",
    "with open('id2word_en_dic.json', 'w') as f:\n",
    "    json.dump(id2word_en_dic, f)\n",
    "\n",
    "with open('word2id_en_dic.json', 'w') as f:\n",
    "    json.dump(word2id_en_dic, f)"
   ]
  },
  {
   "cell_type": "code",
   "execution_count": null,
   "metadata": {},
   "outputs": [],
   "source": []
  }
 ],
 "metadata": {
  "kernelspec": {
   "display_name": "Python [default]",
   "language": "python",
   "name": "python3"
  },
  "language_info": {
   "codemirror_mode": {
    "name": "ipython",
    "version": 3
   },
   "file_extension": ".py",
   "mimetype": "text/x-python",
   "name": "python",
   "nbconvert_exporter": "python",
   "pygments_lexer": "ipython3",
   "version": "3.7.0"
  }
 },
 "nbformat": 4,
 "nbformat_minor": 2
}
