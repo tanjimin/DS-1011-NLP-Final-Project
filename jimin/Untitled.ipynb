{
 "cells": [
  {
   "cell_type": "code",
   "execution_count": 102,
   "metadata": {},
   "outputs": [],
   "source": [
    "import io\n",
    "\n",
    "def load_vectors(fname):\n",
    "    fin = io.open(fname, 'r', encoding='utf-8', newline='\\n', errors='ignore')\n",
    "    n, d = map(int, fin.readline().split())\n",
    "    id2word_dic = {}\n",
    "    word2id_dic = {}\n",
    "    for i, line in enumerate(fin):\n",
    "        tokens = line.rstrip().split(' ')\n",
    "        token = tokens[0]\n",
    "        index = i\n",
    "        id2word_dic[i] = token\n",
    "        word2id_dic[token] = i\n",
    "        data.append(token)\n",
    "        if i > 100000:\n",
    "            break\n",
    "    return id2word_dic, word2id_dic"
   ]
  },
  {
   "cell_type": "code",
   "execution_count": 101,
   "metadata": {},
   "outputs": [],
   "source": [
    "import json\n",
    "\n",
    "file_name_zh = '../../data/cc.zh.300.vec'\n",
    "id2word_zh_dic, word2id_zh_dic = load_vectors(file_name_zh)\n",
    "\n",
    "with open('id2word_zh_dic.json', 'w') as f:\n",
    "    json.dump(id2word_zh_dic, f)\n",
    "\n",
    "with open('word2id_zh_dic.json', 'w') as f:\n",
    "    json.dump(word2id_zh_dic, f)"
   ]
  },
  {
   "cell_type": "code",
   "execution_count": 103,
   "metadata": {},
   "outputs": [],
   "source": [
    "file_name_vi = '../../data/cc.vi.300.vec'\n",
    "id2word_vi_dic, word2id_vi_dic = load_vectors(file_name_vi)\n",
    "\n",
    "with open('id2word_vi_dic.json', 'w') as f:\n",
    "    json.dump(id2word_vi_dic, f)\n",
    "\n",
    "with open('word2id_vi_dic.json', 'w') as f:\n",
    "    json.dump(word2id_vi_dic, f)"
   ]
  },
  {
   "cell_type": "code",
   "execution_count": 104,
   "metadata": {},
   "outputs": [],
   "source": [
    "file_name_en = '../../data/cc.en.300.vec'\n",
    "id2word_en_dic, word2id_en_dic = load_vectors(file_name_en)\n",
    "\n",
    "with open('id2word_en_dic.json', 'w') as f:\n",
    "    json.dump(id2word_en_dic, f)\n",
    "\n",
    "with open('word2id_en_dic.json', 'w') as f:\n",
    "    json.dump(word2id_en_dic, f)"
   ]
  },
  {
   "cell_type": "code",
   "execution_count": null,
   "metadata": {},
   "outputs": [],
   "source": []
  }
 ],
 "metadata": {
  "kernelspec": {
   "display_name": "Python 3",
   "language": "python",
   "name": "python3"
  },
  "language_info": {
   "codemirror_mode": {
    "name": "ipython",
    "version": 3
   },
   "file_extension": ".py",
   "mimetype": "text/x-python",
   "name": "python",
   "nbconvert_exporter": "python",
   "pygments_lexer": "ipython3",
   "version": "3.7.0"
  }
 },
 "nbformat": 4,
 "nbformat_minor": 2
}
