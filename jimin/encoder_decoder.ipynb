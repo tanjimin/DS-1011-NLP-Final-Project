{
 "cells": [
  {
   "cell_type": "code",
   "execution_count": 1,
   "metadata": {},
   "outputs": [],
   "source": [
    "import pickle as pkl\n",
    "import gzip\n",
    "import torch\n",
    "import torch.nn as nn\n",
    "from torch import optim\n",
    "import torch.nn.functional as F\n",
    "\n",
    "#device = torch.device(\"cuda\" if torch.cuda.is_available() else \"cpu\")\n",
    "device = torch.device(\"cpu\")"
   ]
  },
  {
   "cell_type": "markdown",
   "metadata": {},
   "source": [
    "## Import Dictionaries"
   ]
  },
  {
   "cell_type": "code",
   "execution_count": 2,
   "metadata": {},
   "outputs": [],
   "source": [
    "def load_zipped_pickle(filename):\n",
    "    with gzip.open(filename, 'rb') as f:\n",
    "        loaded_object = pkl.load(f)\n",
    "        return loaded_object"
   ]
  },
  {
   "cell_type": "code",
   "execution_count": 3,
   "metadata": {},
   "outputs": [],
   "source": [
    "id2word_zh_dic = load_zipped_pickle(\"../embeddings/id2word_zh_dic.p\")\n",
    "word2id_zh_dic = load_zipped_pickle(\"../embeddings/word2id_zh_dic.p\")\n",
    "\n",
    "id2word_en_dic = load_zipped_pickle(\"../embeddings/id2word_en_dic.p\")\n",
    "word2id_en_dic = load_zipped_pickle(\"../embeddings/word2id_en_dic.p\")"
   ]
  },
  {
   "cell_type": "markdown",
   "metadata": {},
   "source": [
    "## Import tokenzied datasets"
   ]
  },
  {
   "cell_type": "code",
   "execution_count": 4,
   "metadata": {},
   "outputs": [],
   "source": [
    "train_zh_num = load_zipped_pickle(\"../data/zh-en-tokens/train_zh_tok_num.p\")\n",
    "train_en_num = load_zipped_pickle(\"../data/zh-en-tokens/train_en_tok_num.p\")\n",
    "\n",
    "test_zh_num = load_zipped_pickle(\"../data/zh-en-tokens/test_zh_tok_num.p\")\n",
    "test_en_num = load_zipped_pickle(\"../data/zh-en-tokens/test_en_tok_num.p\")"
   ]
  },
  {
   "cell_type": "code",
   "execution_count": 5,
   "metadata": {},
   "outputs": [],
   "source": [
    "# Append eos to english sentence\n",
    "for i, line in enumerate(train_en_num):\n",
    "    if len(line) == 0:\n",
    "        del train_en_num[i]\n",
    "        del train_zh_num[i]\n",
    "    else:\n",
    "        line[-1] = 110000\n",
    "\n",
    "for i, line in enumerate(test_en_num):\n",
    "    if len(line) == 0:\n",
    "        del test_en_num[i]\n",
    "        del test_zh_num[i]\n",
    "    else:\n",
    "        line[-1] = 110000\n",
    "\n",
    "# Add eos to en dict\n",
    "id2word_en_dic[110000] = '</s>'\n",
    "word2id_en_dic['</s>'] = 110000"
   ]
  },
  {
   "cell_type": "code",
   "execution_count": 6,
   "metadata": {},
   "outputs": [
    {
     "name": "stdout",
     "output_type": "stream",
     "text": [
      "简单 的 说 如果 <unk> 重病 病患 <unk> 患者 接受 了 搭桥 手术 他 的 症状 会 稍微 好转 </s> \n",
      "basically , if you take an extremely sick patient and you give them a bypass , they get a little bit better . </s> "
     ]
    }
   ],
   "source": [
    "index = 27598\n",
    "\n",
    "for num in train_zh_num[index]:\n",
    "    print(id2word_zh_dic[num], end=' ')\n",
    "print()\n",
    "for num in train_en_num[index]:\n",
    "    print(id2word_en_dic[num], end=' ')"
   ]
  },
  {
   "cell_type": "code",
   "execution_count": 7,
   "metadata": {},
   "outputs": [],
   "source": [
    "def max_length(sample):\n",
    "    max_length = 0\n",
    "    for line in sample:\n",
    "        if len(line) > max_length:\n",
    "            max_length = len(line)\n",
    "    return max_length\n",
    "\n",
    "max_train_zh = max_length(train_zh_num) #531\n",
    "max_train_en = max_length(train_en_num) #666"
   ]
  },
  {
   "cell_type": "markdown",
   "metadata": {},
   "source": [
    "## Padding"
   ]
  },
  {
   "cell_type": "code",
   "execution_count": 8,
   "metadata": {},
   "outputs": [],
   "source": [
    "def pad(data, length):\n",
    "    for i, line in enumerate(data):\n",
    "        if len(line) < length:\n",
    "            for i in range(len(line), length):\n",
    "                line.append(0)\n",
    "        else:\n",
    "            data[i] = line[0:length]\n",
    "    return data\n",
    "\n",
    "train_zh_num = pad(train_zh_num, 10)#max_length(train_zh_num))\n",
    "train_en_num = pad(train_en_num, 10) #max_length(train_en_num))\n",
    "\n",
    "train_zh_num = torch.tensor(train_zh_num, dtype=torch.long, device=device)\n",
    "train_en_num = torch.tensor(train_en_num, dtype=torch.long, device=device)"
   ]
  },
  {
   "cell_type": "markdown",
   "metadata": {},
   "source": [
    "## Encoder and Decoder"
   ]
  },
  {
   "cell_type": "code",
   "execution_count": 9,
   "metadata": {},
   "outputs": [],
   "source": [
    "class EncoderRNN(nn.Module):\n",
    "    def __init__(self, input_size, hidden_size):\n",
    "        super(EncoderRNN, self).__init__()\n",
    "        self.hidden_size = hidden_size\n",
    "\n",
    "        self.embedding = nn.Embedding(input_size, hidden_size)\n",
    "        self.gru = nn.GRU(hidden_size, hidden_size)\n",
    "    \n",
    "    def forward(self, input_mat, hidden):\n",
    "        embedded = self.embedding(input_mat).view(1, 1, -1)\n",
    "        output = embedded\n",
    "        output, hidden = self.gru(output, hidden)\n",
    "        return output, hidden\n",
    "    \n",
    "    def initHidden(self):\n",
    "        return torch.zeros(1, 1, self.hidden_size, device=device)\n",
    "    \n",
    "class DecoderRNN(nn.Module):\n",
    "    def __init__(self, hidden_size, output_size):\n",
    "        super(DecoderRNN, self).__init__()\n",
    "        self.hidden_size = hidden_size\n",
    "\n",
    "        self.embedding = nn.Embedding(output_size, hidden_size)\n",
    "        self.gru = nn.GRU(hidden_size, hidden_size)\n",
    "        self.out = nn.Linear(hidden_size, output_size)\n",
    "        self.softmax = nn.LogSoftmax(dim=1)\n",
    "\n",
    "    def forward(self, input_mat, hidden):\n",
    "        output = self.embedding(input_mat).view(1, 1, -1)\n",
    "        output = F.relu(output)\n",
    "        output, hidden = self.gru(output, hidden)\n",
    "        output = self.softmax(self.out(output[0]))\n",
    "        return output, hidden\n",
    "\n",
    "    def initHidden(self):\n",
    "        return torch.zeros(1, 1, self.hidden_size, device=device)"
   ]
  },
  {
   "cell_type": "code",
   "execution_count": 10,
   "metadata": {},
   "outputs": [],
   "source": [
    "def train(input_tensor, target_tensor, encoder, decoder, \n",
    "          encoder_optimizer, decoder_optimizer, criterion, \n",
    "          max_length=700):\n",
    "    \n",
    "    encoder_hidden = encoder.initHidden()\n",
    "    \n",
    "    encoder_optimizer.zero_grad()\n",
    "    decoder_optimizer.zero_grad()\n",
    "    \n",
    "    input_length = input_tensor.size(0)\n",
    "    target_length = target_tensor.size(0)\n",
    "\n",
    "    encoder_outputs = torch.zeros(max_length, encoder.hidden_size, device=device)\n",
    "    \n",
    "    loss = 0\n",
    "    \n",
    "    \n",
    "    for ei in range(input_length):\n",
    "        encoder_output, encoder_hidden = encoder(\n",
    "            input_tensor[ei], encoder_hidden)\n",
    "        encoder_outputs[ei] = encoder_output[0, 0]\n",
    "\n",
    "    decoder_input = torch.tensor([[0]], device=device)\n",
    "\n",
    "    decoder_hidden = encoder_hidden\n",
    "\n",
    "    for di in range(target_length):\n",
    "        decoder_output, decoder_hidden = decoder(\n",
    "            decoder_input, decoder_hidden)\n",
    "        topv, topi = decoder_output.topk(1)\n",
    "        decoder_input = topi.squeeze().detach()  # detach from history as input\n",
    "        loss += criterion(decoder_output, torch.tensor([target_tensor[di]]))\n",
    "        if decoder_input.item() == word2id_en_dic['</s>']:\n",
    "            break\n",
    "\n",
    "    loss.backward()\n",
    "\n",
    "    encoder_optimizer.step()\n",
    "    decoder_optimizer.step()\n",
    "\n",
    "    return loss.item() / target_length"
   ]
  },
  {
   "cell_type": "code",
   "execution_count": 11,
   "metadata": {},
   "outputs": [],
   "source": [
    "learning_rate = 0.01\n",
    "#batch_size = 32\n",
    "encoder = EncoderRNN(110001, 40).to(device)\n",
    "decoder = DecoderRNN(40, 110001).to(device)\n",
    "encoder_optimizer = optim.Adam(encoder.parameters(), lr=learning_rate)\n",
    "decoder_optimizer = optim.Adam(decoder.parameters(), lr=learning_rate)\n",
    "criterion = nn.NLLLoss()"
   ]
  },
  {
   "cell_type": "code",
   "execution_count": 12,
   "metadata": {},
   "outputs": [
    {
     "name": "stdout",
     "output_type": "stream",
     "text": [
      "11.580879211425781\n",
      "7.921060180664062\n",
      "7.822477722167969\n",
      "2.417995262145996\n",
      "8.301812744140625\n",
      "2.338675880432129\n",
      "3.250885772705078\n",
      "7.495432281494141\n",
      "8.13516845703125\n",
      "9.270360565185547\n",
      "3.7707706451416017\n",
      "8.732978820800781\n",
      "5.452120590209961\n",
      "4.979118728637696\n",
      "8.055752563476563\n",
      "8.035268402099609\n",
      "5.584222030639649\n",
      "3.3305824279785154\n",
      "6.803962707519531\n",
      "5.576179885864258\n",
      "5.780976486206055\n"
     ]
    }
   ],
   "source": [
    "for epoch in range(1):\n",
    "    #for batch_i in range(int(train_zh_num.shape[0]/batch_size)):\n",
    "    for batch_i in range(train_zh_num.shape[0]):\n",
    "        if batch_i > 1000:\n",
    "            break\n",
    "        input_batch = train_zh_num[batch_i, :].to(device)\n",
    "        target_batch = train_en_num[batch_i, :].to(device)\n",
    "        loss = train(input_batch, target_batch, encoder, decoder, encoder_optimizer, decoder_optimizer, criterion)\n",
    "        if batch_i % 50 == 0:\n",
    "            print(loss)"
   ]
  },
  {
   "cell_type": "code",
   "execution_count": 13,
   "metadata": {},
   "outputs": [],
   "source": [
    "def test(index):\n",
    "    for num in train_zh_num[index]:\n",
    "        print(id2word_zh_dic[int(num)], end=' ')\n",
    "    input_tensor = train_zh_num[index, :]\n",
    "    target_tensor = train_en_num[index, :]\n",
    "    target_length = target_tensor.size(0)\n",
    "    input_length = input_tensor.size(0)\n",
    "    encoder_hidden = encoder.initHidden()\n",
    "    encoder_outputs = torch.zeros(700, encoder.hidden_size, device=device)\n",
    "    \n",
    "    for ei in range(input_length):\n",
    "        encoder_output, encoder_hidden = encoder(input_tensor[ei], encoder_hidden)\n",
    "        encoder_outputs[ei] = encoder_output[0, 0]\n",
    "    \n",
    "    decoder_hidden = encoder_hidden\n",
    "    decoder_input = torch.tensor([[0]], device=device)\n",
    "    \n",
    "    print()\n",
    "    \n",
    "    for di in range(target_length):\n",
    "        decoder_output, decoder_hidden = decoder(\n",
    "            decoder_input, decoder_hidden)\n",
    "        topv, topi = decoder_output.topk(1)\n",
    "        decoder_input = topi.squeeze().detach()  # detach from history as input\n",
    "        print(id2word_en_dic[int(torch.argmax(decoder_output))], end=' ')\n",
    "        if decoder_input.item() == word2id_en_dic['</s>']:\n",
    "            break"
   ]
  },
  {
   "cell_type": "code",
   "execution_count": 29,
   "metadata": {},
   "outputs": [
    {
     "name": "stdout",
     "output_type": "stream",
     "text": [
      "<unk> 后 警方 又 给 她 <unk> 新 的 照片 \n",
      "so is , <unk> , <unk> , <pad> <pad> <pad> "
     ]
    }
   ],
   "source": [
    "test(15937)"
   ]
  },
  {
   "cell_type": "code",
   "execution_count": null,
   "metadata": {},
   "outputs": [],
   "source": []
  }
 ],
 "metadata": {
  "kernelspec": {
   "display_name": "Python 3",
   "language": "python",
   "name": "python3"
  },
  "language_info": {
   "codemirror_mode": {
    "name": "ipython",
    "version": 3
   },
   "file_extension": ".py",
   "mimetype": "text/x-python",
   "name": "python",
   "nbconvert_exporter": "python",
   "pygments_lexer": "ipython3",
   "version": "3.6.6"
  }
 },
 "nbformat": 4,
 "nbformat_minor": 2
}
