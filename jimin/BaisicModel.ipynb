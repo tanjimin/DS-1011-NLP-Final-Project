{
 "cells": [
  {
   "cell_type": "code",
   "execution_count": 1,
   "metadata": {},
   "outputs": [],
   "source": [
    "import pickle as pkl\n",
    "import numpy as np\n",
    "import gzip\n",
    "import torch\n",
    "import torch.nn as nn\n",
    "from torch import optim\n",
    "import torch.nn.functional as F\n",
    "import time\n",
    "import math\n",
    "\n",
    "device = torch.device(\"cuda\" if torch.cuda.is_available() else \"cpu\")"
   ]
  },
  {
   "cell_type": "markdown",
   "metadata": {},
   "source": [
    "## Import Dictionaries and Data"
   ]
  },
  {
   "cell_type": "code",
   "execution_count": 2,
   "metadata": {},
   "outputs": [],
   "source": [
    "def load_zipped_pickle(filename):\n",
    "    with gzip.open(filename, 'rb') as f:\n",
    "        loaded_object = pkl.load(f)\n",
    "        return loaded_object"
   ]
  },
  {
   "cell_type": "code",
   "execution_count": 3,
   "metadata": {},
   "outputs": [],
   "source": [
    "# Print sentence given numbers\n",
    "def ids2sentence(sentence, dictionary):\n",
    "    return [dictionary[i] for i in sentence]\n",
    "#ids2sentence(en_train_num[0], id2word_en_dic)\n",
    "\n",
    "def add_symbol(id2word_dic, word2id_dic):\n",
    "    symbols = ['<pad>', '<unk>', '<sos>', '<eos>']\n",
    "    for i, symbol in enumerate(symbols):\n",
    "        id2word_dic[i] = symbol\n",
    "        word2id_dic[symbol] = i\n",
    "    return id2word_dic, word2id_dic\n",
    "\n",
    "id2word_vi_dic = load_zipped_pickle(\"../embeddings/id2word_vi_dic.p\")\n",
    "word2id_vi_dic = load_zipped_pickle(\"../embeddings/word2id_vi_dic.p\")\n",
    "\n",
    "id2word_en_dic = load_zipped_pickle(\"../embeddings/id2word_en_dic.p\")\n",
    "word2id_en_dic = load_zipped_pickle(\"../embeddings/word2id_en_dic.p\")\n",
    "\n",
    "id2word_vi_dic, word2id_vi_dic = add_symbol(id2word_vi_dic, word2id_vi_dic)\n",
    "id2word_en_dic, word2id_en_dic = add_symbol(id2word_en_dic, word2id_en_dic)\n",
    "\n",
    "vi_train = load_zipped_pickle(\"../data/vi-en-tokens/train_vi_tok.p\")\n",
    "en_train = load_zipped_pickle(\"../data/vi-en-tokens/train_en_tok.p\") # Already Processed for symbols\n",
    "\n",
    "vi_train_num = load_zipped_pickle(\"../data/vi-en-tokens/train_vi_tok_num.p\")\n",
    "en_train_num = load_zipped_pickle(\"../data/vi-en-tokens/train_en_tok_num.p\") # Already Processed for symbols"
   ]
  },
  {
   "cell_type": "markdown",
   "metadata": {},
   "source": [
    "## Padding Data"
   ]
  },
  {
   "cell_type": "markdown",
   "metadata": {},
   "source": [
    "### Sort by input data length"
   ]
  },
  {
   "cell_type": "code",
   "execution_count": 4,
   "metadata": {},
   "outputs": [],
   "source": [
    "def sort_by_length(data_input, target_data):\n",
    "    input_size = [len(data) for data in data_input]\n",
    "    size_index = np.argsort(input_size)\n",
    "    return list(np.array(data_input)[size_index]), list(np.array(target_data)[size_index])\n",
    "\n",
    "vi_train_num, en_train_num = sort_by_length(vi_train_num, en_train_num)"
   ]
  },
  {
   "cell_type": "markdown",
   "metadata": {},
   "source": [
    "### Padding Data given batch size"
   ]
  },
  {
   "cell_type": "code",
   "execution_count": 5,
   "metadata": {},
   "outputs": [],
   "source": [
    "def pad(data, length):\n",
    "    for i, line in enumerate(data):\n",
    "        if len(line) < length:\n",
    "            for i in range(len(line), length):\n",
    "                line.append(0)\n",
    "        else:\n",
    "            data[i] = line[0:length]\n",
    "    return data\n",
    "\n",
    "# Return the batch data and target\n",
    "def get_batch(i, batch_size, train_data, train_target):\n",
    "    if i * batch_size > len(train_data):\n",
    "        raise Exception('Incorrect batch index')\n",
    "    start_idx = i * batch_size\n",
    "    end_idx = (i + 1) * batch_size\n",
    "    batch_data = list(np.array(train_data)[start_idx:end_idx])\n",
    "    batch_target = list(np.array(train_target)[start_idx:end_idx])\n",
    "    batch_data = pad(batch_data, len(batch_data[batch_size - 1]))\n",
    "    max_target = max([len(data) for data in batch_data])\n",
    "    batch_target = pad(batch_target, max_target)\n",
    "    return batch_data, batch_target\n",
    "\n",
    "# get_batch(5, 64, vi_train_num, en_train_num)"
   ]
  },
  {
   "cell_type": "markdown",
   "metadata": {},
   "source": [
    "## Models"
   ]
  },
  {
   "cell_type": "markdown",
   "metadata": {},
   "source": [
    "### Encoder"
   ]
  },
  {
   "cell_type": "code",
   "execution_count": 6,
   "metadata": {},
   "outputs": [],
   "source": [
    "class EncoderRNN(nn.Module):\n",
    "    def __init__(self, input_size, hidden_size, num_layers, batch_size):\n",
    "        super(EncoderRNN, self).__init__()\n",
    "        self.hidden_size = hidden_size\n",
    "        self.batch_size = batch_size\n",
    "        # input_size: input dictionary size\n",
    "        self.embedding = nn.Embedding(input_size, hidden_size)\n",
    "        self.num_layers = num_layers\n",
    "        self.gru = nn.GRU(hidden_size, \n",
    "                          hidden_size, \n",
    "                          num_layers= num_layers, \n",
    "                          batch_first = True) # BATCH FIRST\n",
    "\n",
    "    def forward(self, encoder_input, hidden_input):\n",
    "        # encoder_input: batch * 1 (for 1 word each time)\n",
    "        embedded_input = self.embedding(encoder_input)\n",
    "        # embedded_input: batch * 1 * emb_dim\n",
    "        # hidden_input: batch * 1(layer) * hidden_size\n",
    "        output, hidden = self.gru(embedded_input, hidden_input)\n",
    "        return output, hidden\n",
    "\n",
    "    def initHidden(self):\n",
    "        return torch.zeros(self.num_layers, self.batch_size, self.hidden_size, device=device)"
   ]
  },
  {
   "cell_type": "markdown",
   "metadata": {},
   "source": [
    "### Decoder"
   ]
  },
  {
   "cell_type": "code",
   "execution_count": 7,
   "metadata": {},
   "outputs": [],
   "source": [
    "class DecoderRNN(nn.Module):\n",
    "    def __init__(self, hidden_size, output_size, num_layers, batch_size):\n",
    "        super(DecoderRNN, self).__init__()\n",
    "        self.hidden_size = hidden_size\n",
    "        self.batch_size = batch_size\n",
    "        # output_size: input dictionary size\n",
    "        self.embedding = nn.Embedding(output_size, hidden_size)\n",
    "        self.gru = nn.GRU(hidden_size, \n",
    "                          hidden_size,\n",
    "                          num_layers= num_layers, \n",
    "                          batch_first = True) # BATCH_FRIST\n",
    "        self.out = nn.Linear(hidden_size, output_size)\n",
    "        # self.softmax = nn.LogSoftmax(dim=1) # Use cross entropy loss outside\n",
    "\n",
    "    def forward(self, decoder_input, hidden_input):\n",
    "        # decoder_input: batch * 1\n",
    "        embedded_input = self.embedding(decoder_input)\n",
    "        # embedded_input: batch * 1 * emb_dim\n",
    "        embedded_input = F.relu(embedded_input)\n",
    "        # hidden_input: batch * hidden_size\n",
    "        output, hidden = self.gru(embedded_input, hidden_input)\n",
    "        output = self.out(output)\n",
    "        # output = self.softmax(output) # not using softmax\n",
    "        return output, hidden\n",
    "\n",
    "    def initHidden(self):\n",
    "        return torch.zeros(self.num_layers, self.batch_size, self.hidden_size, device=device)"
   ]
  },
  {
   "cell_type": "markdown",
   "metadata": {},
   "source": [
    "## Training"
   ]
  },
  {
   "cell_type": "code",
   "execution_count": 18,
   "metadata": {},
   "outputs": [],
   "source": [
    "def train(train_input, train_target, encoder, decoder, encoder_optimizer, decoder_optimizer, criterion, batch_size):\n",
    "    \n",
    "    start_time = time.time()\n",
    "    \n",
    "    # Batch\n",
    "    for i in range(len(train_input) // batch_size):\n",
    "        loss = 0\n",
    "        encoder_hidden = encoder.initHidden()\n",
    "        \n",
    "        batch = get_batch(i, batch_size, train_input, train_target)\n",
    "        # size batch_size * seq_length\n",
    "        batch_input = torch.tensor(batch[0], device=device)\n",
    "        batch_target = torch.tensor(batch[1], device=device)\n",
    "        input_length = batch_input.shape[1] ## should be seq length\n",
    "        target_length = batch_target.shape[1]\n",
    "\n",
    "        encoder_optimizer.zero_grad()\n",
    "        decoder_optimizer.zero_grad()\n",
    "        \n",
    "        encoder_outputs = torch.zeros(input_length, batch_size, 1, 256, device=device)\n",
    "        encoder_hiddens = torch.zeros(input_length, 1, batch_size, 256, device=device)\n",
    "        \n",
    "        # Encode\n",
    "        for ec_idx in range(input_length):\n",
    "            # input batch_size * 1\n",
    "            encoder_output, encoder_hidden = encoder(batch_input[:, ec_idx].unsqueeze(1), encoder_hidden)\n",
    "            encoder_outputs[ec_idx] = encoder_output\n",
    "            encoder_hiddens[ec_idx] = encoder_hidden\n",
    "        \n",
    "        # Decode\n",
    "        decoder_input = torch.tensor([2] * batch_size, device=device) # SOS token 2\n",
    "        decoder_hidden = encoder_hidden\n",
    "        \n",
    "        ## Print Value\n",
    "        sample_sentence = []\n",
    "        \n",
    "        # Always use Teacher Forcing\n",
    "        for dc_idx in range(target_length):\n",
    "            decoder_output, decoder_hidden = decoder(decoder_input.unsqueeze(1), decoder_hidden)\n",
    "            decoder_output = decoder_output.squeeze(1) # get rid of the seq dimention\n",
    "            loss += criterion(decoder_output, batch_target[:, dc_idx])\n",
    "            decoder_input = batch_target[:, dc_idx]\n",
    "            \n",
    "            if i % 100 == 0:\n",
    "                ## Print Value\n",
    "                sample_sentence.append(torch.argmax(decoder_output[0]).item())\n",
    "            \n",
    "        loss.backward()\n",
    "        \n",
    "        encoder_optimizer.step()\n",
    "        decoder_optimizer.step()\n",
    "        \n",
    "        if i % 50 == 0:\n",
    "            s = int(time.time() - start_time)\n",
    "            m = math.floor(s / 60)\n",
    "            s = s - m * 60\n",
    "            print('Time: ', m, 'mins', s, 'seconds' , ' Training Loss: ', loss.item() / target_length, 'Progress: ', round(i / (len(train_input) // batch_size) * 100, 2), '%')\n",
    "            if i % 200 == 0:\n",
    "                print(\"Predict: \", ids2sentence(sample_sentence, id2word_en_dic))\n",
    "                print(\"Actual: \", ids2sentence(batch_target[0].cpu().numpy(), id2word_en_dic))\n",
    "        \n",
    "    print('Training Complete')"
   ]
  },
  {
   "cell_type": "markdown",
   "metadata": {},
   "source": [
    "## Parameters"
   ]
  },
  {
   "cell_type": "code",
   "execution_count": 19,
   "metadata": {},
   "outputs": [],
   "source": [
    "dic_size_vi = len(id2word_vi_dic.keys())\n",
    "dic_size_en = len(id2word_en_dic.keys())\n",
    "hidden_size = 256\n",
    "learning_rate = 0.01\n",
    "batch_size = 64\n",
    "\n",
    "## Add ignore index\n",
    "criterion = nn.CrossEntropyLoss()\n",
    "\n",
    "encoder = EncoderRNN(input_size = dic_size_vi, hidden_size = hidden_size, num_layers = 1, batch_size = batch_size).to(device)\n",
    "decoder = DecoderRNN(hidden_size = hidden_size, output_size = dic_size_en, num_layers = 1, batch_size = batch_size).to(device)\n",
    "\n",
    "encoder_optimizer = optim.Adam(encoder.parameters(), lr=learning_rate)\n",
    "decoder_optimizer = optim.Adam(decoder.parameters(), lr=learning_rate)"
   ]
  },
  {
   "cell_type": "code",
   "execution_count": null,
   "metadata": {},
   "outputs": [
    {
     "name": "stdout",
     "output_type": "stream",
     "text": [
      "Time:  0 mins 0 seconds  Training Loss:  11.56678581237793 Progress:  0.0 %\n",
      "Predict:  ['coves', 'Shambhala']\n",
      "Actual:  ['<sos>', '<eos>']\n",
      "Time:  0 mins 8 seconds  Training Loss:  3.642779214041574 Progress:  2.4 %\n",
      "Time:  0 mins 17 seconds  Training Loss:  4.571476406521267 Progress:  4.8 %\n",
      "Time:  0 mins 26 seconds  Training Loss:  4.20709114074707 Progress:  7.2 %\n",
      "Time:  0 mins 35 seconds  Training Loss:  4.111407470703125 Progress:  9.6 %\n",
      "Predict:  ['<sos>', 'i', 'i', 'm', 'a', '.', '<eos>', '<pad>', '<pad>', '<pad>']\n",
      "Actual:  ['<sos>', 'and', 'i', 'was', 'thrilled', '.', '<eos>', '<pad>', '<pad>', '<pad>']\n",
      "Time:  0 mins 44 seconds  Training Loss:  4.237415660511363 Progress:  12.0 %\n",
      "Time:  0 mins 53 seconds  Training Loss:  4.197562535603841 Progress:  14.4 %\n",
      "Time:  1 mins 2 seconds  Training Loss:  4.157804171244304 Progress:  16.8 %\n",
      "Time:  1 mins 11 seconds  Training Loss:  4.000789935772236 Progress:  19.2 %\n",
      "Predict:  ['<sos>', 'the', 'first', 'is', 'the', 'of', 'the', 'long', '.', 'the', 'long', '.', '.']\n",
      "Actual:  ['<sos>', 'the', 'house', 'is', 'sort', 'of', 'a', 'distortion', 'of', 'a', 'square', 'block', '.']\n",
      "Time:  1 mins 21 seconds  Training Loss:  4.344852992466518 Progress:  21.6 %\n",
      "Time:  1 mins 30 seconds  Training Loss:  3.956681932721819 Progress:  24.0 %\n",
      "Time:  1 mins 39 seconds  Training Loss:  4.3078465779622395 Progress:  26.4 %\n",
      "Time:  1 mins 49 seconds  Training Loss:  4.215992228190104 Progress:  28.8 %\n",
      "Predict:  ['<sos>', 'it', 'mother', 'is', 'about', 'a', 'a', 'lot', 'of', 'the', '.', '.', '<eos>', '<pad>', '<pad>']\n",
      "Actual:  ['<sos>', 'her', 'virginity', 'statement', 'was', 'not', 'a', 'piece', 'of', 'wishful', 'thinking', '.', '<eos>', '<pad>', '<pad>']\n"
     ]
    }
   ],
   "source": [
    "for i in range(50):\n",
    "    train(vi_train_num, en_train_num, encoder, decoder, encoder_optimizer, decoder_optimizer, criterion, batch_size)\n",
    "    if i % 10 == 0:\n",
    "        pickle.dump(encoder, open(\"./model/encoder.p\", \"wb\"))\n",
    "        pickle.dump(decoder, open(\"./model/decoder.p\", \"wb\"))"
   ]
  },
  {
   "cell_type": "code",
   "execution_count": null,
   "metadata": {},
   "outputs": [],
   "source": [
    "# overfit_vi_train = vi_train_num[10000:10002]\n",
    "# overfit_en_train = en_train_num[10000:10002]\n",
    "\n",
    "# for i in range(100):\n",
    "#     train(overfit_vi_train, overfit_en_train, encoder, decoder, encoder_optimizer, decoder_optimizer, criterion, batch_size)"
   ]
  },
  {
   "cell_type": "code",
   "execution_count": null,
   "metadata": {},
   "outputs": [],
   "source": []
  }
 ],
 "metadata": {
  "kernelspec": {
   "display_name": "Python [default]",
   "language": "python",
   "name": "python3"
  },
  "language_info": {
   "codemirror_mode": {
    "name": "ipython",
    "version": 3
   },
   "file_extension": ".py",
   "mimetype": "text/x-python",
   "name": "python",
   "nbconvert_exporter": "python",
   "pygments_lexer": "ipython3",
   "version": "3.7.1"
  }
 },
 "nbformat": 4,
 "nbformat_minor": 2
}
